{
 "cells": [
  {
   "cell_type": "markdown",
   "metadata": {},
   "source": [
    "# Flow methods comparison"
   ]
  },
  {
   "cell_type": "markdown",
   "metadata": {},
   "source": [
    "## Classical methods"
   ]
  },
  {
   "cell_type": "code",
   "execution_count": null,
   "metadata": {},
   "outputs": [],
   "source": [
    "import numpy as np\n",
    "import cv2 as cv\n",
    "\n",
    "# Fonction pour calculer le flux optique dense\n",
    "def compute_dense_optical_flow(frame1, frame2):\n",
    "    # Conversion des images en niveaux de gris\n",
    "    prvs = cv.cvtColor(frame1, cv.COLOR_BGR2GRAY)\n",
    "    next = cv.cvtColor(frame2, cv.COLOR_BGR2GRAY)\n",
    "    \n",
    "    # Calcul du flux optique dense avec la méthode Farneback\n",
    "    flow = cv.calcOpticalFlowFarneback(prvs, next, None, 0.5, 3, 15, 3, 5, 1.2, 0)\n",
    "    return flow\n",
    "\n",
    "# Fonction de projection du flux (en pixels)\n",
    "def project_optical_flow(flow):\n",
    "    # Calcul de l'amplitude et de l'angle du flux optique\n",
    "    mag, ang = cv.cartToPolar(flow[..., 0], flow[..., 1])\n",
    "    return mag, ang\n",
    "\n",
    "# Fonction pour calculer l'erreur MSE entre deux flux optiques\n",
    "def compute_mse(flow1, flow2):\n",
    "    # Calcul de l'erreur quadratique moyenne entre deux flux optiques\n",
    "    diff = flow1 - flow2\n",
    "    mse = np.mean(diff ** 2)\n",
    "    return mse\n",
    "\n",
    "# Initialisation de la capture vidéo\n",
    "cap = cv.VideoCapture(cv.samples.findFile(\"slow_traffic_small.mp4\"))\n",
    "\n",
    "ret, frame1 = cap.read()\n",
    "\n",
    "# Initialisation du tableau HSV pour la visualisation\n",
    "hsv = np.zeros_like(frame1)\n",
    "hsv[..., 1] = 255\n",
    "\n",
    "while(1):\n",
    "    ret, frame2 = cap.read()\n",
    "    if not ret:\n",
    "        print('No frames grabbed!')\n",
    "        break\n",
    "\n",
    "    # Calcul du flux optique dense entre frame1 et frame2\n",
    "    flow = compute_dense_optical_flow(frame1, frame2)\n",
    "\n",
    "    # Projeter le flux pour la visualisation (magnitude et angle)\n",
    "    mag, ang = project_optical_flow(flow)\n",
    "    hsv[..., 0] = ang * 180 / np.pi / 2\n",
    "    hsv[..., 2] = cv.normalize(mag, None, 0, 255, cv.NORM_MINMAX)\n",
    "\n",
    "    # Convertir l'image HSV en BGR pour l'affichage\n",
    "    bgr = cv.cvtColor(hsv, cv.COLOR_HSV2BGR)\n",
    "    \n",
    "    # Afficher l'image résultante avec le flux optique\n",
    "    cv.imshow('frame2', bgr)\n",
    "\n",
    "    # Vérification de l'entrée du clavier pour quitter ou sauvegarder\n",
    "    k = cv.waitKey(30) & 0xff\n",
    "    if k == 27:  # Échapper pour quitter\n",
    "        break\n",
    "    elif k == ord('s'):  # 's' pour sauvegarder les images\n",
    "        cv.imwrite('opticalfb.png', frame2)\n",
    "        cv.imwrite('opticalhsv.png', bgr)\n",
    "\n",
    "    # Mettre à jour la frame précédente\n",
    "    frame1 = frame2\n",
    "\n",
    "cv.destroyAllWindows()\n",
    "\n",
    "# Pour calculer l'erreur MSE (optionnel)\n",
    "# Vous pouvez calculer l'erreur entre deux flux consécutifs comme suit :\n",
    "# mse = compute_mse(flow, previous_flow)\n"
   ]
  },
  {
   "cell_type": "markdown",
   "metadata": {},
   "source": [
    "## Recent methods (Deep Learning) "
   ]
  }
 ],
 "metadata": {
  "kernelspec": {
   "display_name": "venv",
   "language": "python",
   "name": "python3"
  },
  "language_info": {
   "codemirror_mode": {
    "name": "ipython",
    "version": 3
   },
   "file_extension": ".py",
   "mimetype": "text/x-python",
   "name": "python",
   "nbconvert_exporter": "python",
   "pygments_lexer": "ipython3",
   "version": "3.13.1"
  }
 },
 "nbformat": 4,
 "nbformat_minor": 2
}
